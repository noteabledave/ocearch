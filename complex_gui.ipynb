{
  "cells": [
    {
      "cell_type": "code",
      "execution_count": 1,
      "id": "automated-conference",
      "metadata": {
        "execution": {
          "iopub.execute_input": "2021-05-26T22:28:55.772Z",
          "iopub.status.busy": "2021-05-26T22:28:55.761Z",
          "iopub.status.idle": "2021-05-26T22:28:55.849Z",
          "shell.execute_reply": "2021-05-26T22:28:55.835Z"
        }
      },
      "outputs": [],
      "source": [
        "from ipywidgets import widgets, Layout\n",
        "from IPython.display import clear_output"
      ]
    },
    {
      "cell_type": "markdown",
      "id": "71326266-34f2-4738-b535-bf26c39d6a2b",
      "metadata": {
        "noteable": {
          "cell_type": "markdown"
        },
        "nteract": {
          "transient": {
            "deleting": false
          }
        }
      },
      "source": [
        "![img](widgets.jpeg)"
      ]
    },
    {
      "cell_type": "code",
      "execution_count": 8,
      "id": "anonymous-portuguese",
      "metadata": {
        "execution": {
          "iopub.execute_input": "2021-06-11T17:09:36.556Z",
          "iopub.status.busy": "2021-06-11T17:09:36.523Z",
          "iopub.status.idle": "2021-06-11T17:09:37.094Z",
          "shell.execute_reply": "2021-06-11T17:09:36.871Z"
        },
        "jupyter": {
          "source_hidden": false
        }
      },
      "outputs": [
        {
          "data": {
            "application/vnd.jupyter.widget-view+json": {
              "model_id": "e1511c4c387944129a71760b20e05f60",
              "version_major": 2,
              "version_minor": 0
            },
            "text/plain": [
              "VBox(children=(HTML(value=\"<h2 style='text-align:center'>Widget GUI</h2>\"), Tab(children=(Tab(children=(VBox(c…"
            ]
          },
          "metadata": {},
          "output_type": "display_data"
        }
      ],
      "source": [
        "def callback(w):\n",
        "    with output:\n",
        "        clear_output()\n",
        "        print(location.value, date.value)\n",
        "        print(name.value, age.value)\n",
        "        print(opt1.value, opt2.value, opt3.value, description.value)\n",
        "        print(color.value, animal.value)\n",
        "        \n",
        "# Inner tab 1a\n",
        "location = widgets.Text(value='London', description='Location', layout=Layout(width='75%'))\n",
        "date = widgets.DatePicker(description='Date')\n",
        "tab1a = widgets.VBox(children=[location, date])\n",
        "\n",
        "# Inner tab 1b\n",
        "name = widgets.Text(value='John', description='Name')\n",
        "age = widgets.IntSlider(value=5, min=1, max=100, description='Age')\n",
        "tab1b = widgets.VBox(children=[name, age])\n",
        "\n",
        "# Inner tab 2a\n",
        "opt1 = widgets.Checkbox(value=False, description='opt1')\n",
        "opt2 = widgets.Checkbox(value=False, description='opt2')\n",
        "opt3 = widgets.Checkbox(value=True, description='opt3')\n",
        "options = widgets.HBox(children=[opt1, opt2, opt3])\n",
        "description = widgets.Textarea(description='description', rows=3)\n",
        "tab2a = widgets.VBox(children=[options, description])\n",
        "\n",
        "# Inner tab 2b\n",
        "color = widgets.ColorPicker()\n",
        "animal = widgets.Dropdown(options=['cat', 'dog', 'bird'])\n",
        "tab2b = widgets.VBox(children=[color, animal])\n",
        "\n",
        "# Outer tabs\n",
        "tab1 = widgets.Tab(children=[tab1a, tab1b])\n",
        "tab1.set_title(0, 'Tab 1a')\n",
        "tab1.set_title(1, 'Tab 1b')\n",
        "tab2 = widgets.Tab(children=[tab2a, tab2b])\n",
        "tab2.set_title(0, 'Tab 2a')\n",
        "tab2.set_title(1, 'Tab 2b')\n",
        "\n",
        "# Final GUI\n",
        "output = widgets.Output()\n",
        "title = widgets.HTML(value=\"<h2 style='text-align:center'>Widget GUI</h2>\")\n",
        "tabs = widgets.Tab(children=[tab1, tab2])\n",
        "tabs.set_title(0, 'Tab 1')\n",
        "tabs.set_title(1, 'Tab 2')\n",
        "submit = widgets.Button(description='Submit')\n",
        "submit.on_click(callback)\n",
        "gui = widgets.VBox(children=[title, tabs, submit, output])\n",
        "gui"
      ]
    },
    {
      "cell_type": "markdown",
      "id": "9fb3bca1-c1d4-4699-a204-67e3a49e4682",
      "metadata": {
        "nteract": {
          "transient": {
            "deleting": false
          }
        }
      },
      "source": []
    }
  ],
  "metadata": {
    "kernel_info": {
      "name": "python3"
    },
    "kernelspec": {
      "display_name": "Python 3",
      "language": "python",
      "name": "python3"
    },
    "language_info": {
      "codemirror_mode": {
        "name": "ipython",
        "version": 3
      },
      "file_extension": ".py",
      "mimetype": "text/x-python",
      "name": "python",
      "nbconvert_exporter": "python",
      "pygments_lexer": "ipython3",
      "version": "3.8.8"
    },
    "nteract": {
      "version": "noteable@2.1.0"
    }
  },
  "nbformat": 4,
  "nbformat_minor": 5
}
